{
  "nbformat": 4,
  "nbformat_minor": 0,
  "metadata": {
    "colab": {
      "private_outputs": true,
      "provenance": [],
      "authorship_tag": "ABX9TyOWYGMNu3v1JrKgLRPape4g",
      "include_colab_link": true
    },
    "kernelspec": {
      "name": "python3",
      "display_name": "Python 3"
    },
    "language_info": {
      "name": "python"
    }
  },
  "cells": [
    {
      "cell_type": "markdown",
      "metadata": {
        "id": "view-in-github",
        "colab_type": "text"
      },
      "source": [
        "<a href=\"https://colab.research.google.com/github/Rafaelfyh/Asistencia_delivery/blob/main/Tradutor_de_artigos_t%C3%A9cnicos_no_Azure.ipynb\" target=\"_parent\"><img src=\"https://colab.research.google.com/assets/colab-badge.svg\" alt=\"Open In Colab\"/></a>"
      ]
    },
    {
      "cell_type": "markdown",
      "source": [
        "* Tradutor de artigo tecnico no Azure"
      ],
      "metadata": {
        "id": "LotnYiF76xu9"
      }
    },
    {
      "cell_type": "code",
      "execution_count": null,
      "metadata": {
        "id": "Y2W7OrQk2V7l"
      },
      "outputs": [],
      "source": [
        "# Parte 1: Instalar e importar bibliotecas necessárias\n",
        "!pip install requests\n",
        "\n",
        "import requests\n",
        "import json\n",
        "\n",
        "# Parte 2: Configurar as credenciais do Azure\n",
        "# Insira a chave e o endpoint do serviço Azure Translator\n",
        "subscription_key = 'SUA_CHAVE_DO_AZURE'\n",
        "endpoint = 'SEU_ENDPOINT_DO_AZURE'\n",
        "\n",
        "# Definir o caminho do endpoint para a API do Translator\n",
        "path = '/translate'\n",
        "constructed_url = endpoint + path\n",
        "\n",
        "# Definir os parâmetros, incluindo o idioma de destino\n",
        "params = {\n",
        "    'api-version': '3.0',\n",
        "    'from': 'en',  # Idioma original (inglês)\n",
        "    'to': ['pt']   # Idioma de destino (português)\n",
        "}\n",
        "\n",
        "# Cabeçalhos da requisição, incluindo a chave de acesso\n",
        "headers = {\n",
        "    'Ocp-Apim-Subscription-Key': subscription_key,\n",
        "    'Content-type': 'application/json',\n",
        "    'Ocp-Apim-Subscription-Region': 'sua-regiao-do-azure'  # ex: 'eastus'\n",
        "}\n",
        "\n",
        "# Parte 3: Função para tradução do texto\n",
        "def traduzir_texto(texto):\n",
        "    body = [{'text': texto}]\n",
        "    request = requests.post(constructed_url, params=params, headers=headers, json=body)\n",
        "    response = request.json()\n",
        "    # Extrair e retornar o texto traduzido\n",
        "    return response[0]['translations'][0]['text']\n",
        "\n",
        "# Parte 4: Testar a tradução com um texto técnico\n",
        "texto_tecnico = \"\"\"\n",
        "Machine learning is a method of data analysis that automates analytical model building. It is a branch of artificial intelligence based on the idea that systems can learn from data, identify patterns, and make decisions with minimal human intervention.\n",
        "\"\"\"\n",
        "traducao = traduzir_texto(texto_tecnico)\n",
        "print(\"Texto Original:\\n\", texto_tecnico)\n",
        "print(\"\\nTexto Traduzido:\\n\", traducao)\n"
      ]
    },
    {
      "cell_type": "markdown",
      "source": [
        "*Detalhes do Código*\n",
        "\n",
        "\n",
        "*   Importação de Bibliotecas\n",
        "*   Configuração das Credenciais\n",
        "*   Função de Tradução\n",
        "*   Teste da Função\n",
        "*   Trabalhango com  Diferentes Idiomas\n",
        "*   Erro e Tratamento de Exceções\n",
        "\n",
        "\n",
        "\n",
        "\n",
        "\n",
        "\n",
        "\n"
      ],
      "metadata": {
        "id": "UZo9pzWY6pRN"
      }
    },
    {
      "cell_type": "markdown",
      "source": [
        "# Desenho Fluxo de Arquitetura#"
      ],
      "metadata": {
        "id": "ld5ogZ0pDqur"
      }
    },
    {
      "cell_type": "code",
      "source": [
        "\n",
        "# Bibliotecas\n",
        "import matplotlib.pyplot as plt\n",
        "import matplotlib.image as mpimg\n",
        "\n",
        "# Carregando a imagem\n",
        "img = mpimg.imread('/content/Fluxo_Arquitetural_Tradutor_Azure.png')\n",
        "\n",
        "# Exibindo a imagem\n",
        "plt.imshow(img)\n",
        "plt.axis('off')  # Não mostrar os eixos\n",
        "plt.show()\n"
      ],
      "metadata": {
        "id": "_OQbdwDm9Hgz"
      },
      "execution_count": null,
      "outputs": []
    },
    {
      "cell_type": "code",
      "source": [],
      "metadata": {
        "id": "zrQy0c3qDkJV"
      },
      "execution_count": null,
      "outputs": []
    }
  ]
}