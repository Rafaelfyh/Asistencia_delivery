{
  "nbformat": 4,
  "nbformat_minor": 0,
  "metadata": {
    "colab": {
      "private_outputs": true,
      "provenance": [],
      "authorship_tag": "ABX9TyMbE+yVD6iaszixUPpz5xTP",
      "include_colab_link": true
    },
    "kernelspec": {
      "name": "python3",
      "display_name": "Python 3"
    },
    "language_info": {
      "name": "python"
    }
  },
  "cells": [
    {
      "cell_type": "markdown",
      "metadata": {
        "id": "view-in-github",
        "colab_type": "text"
      },
      "source": [
        "<a href=\"https://colab.research.google.com/github/Rafaelfyh/Asistencia_delivery/blob/main/Projeto_FraudGuard.ipynb\" target=\"_parent\"><img src=\"https://colab.research.google.com/assets/colab-badge.svg\" alt=\"Open In Colab\"/></a>"
      ]
    },
    {
      "cell_type": "code",
      "execution_count": null,
      "metadata": {
        "id": "uXgi_MmoX9ZC"
      },
      "outputs": [],
      "source": [
        "pip install azure-ai-formrecognizer azure-ai-textanalytics azure-cognitiveservices-vision-computervision\n"
      ]
    },
    {
      "cell_type": "code",
      "source": [
        "from azure.ai.formrecognizer import FormRecognizerClient\n",
        "from azure.ai.textanalytics import TextAnalyticsClient\n",
        "from azure.cognitiveservices.vision.computervision import ComputerVisionClient\n",
        "from azure.identity import DefaultAzureCredential\n",
        "from azure.core.credentials import AzureKeyCredential\n",
        "import os\n",
        "\n",
        "# Configurações iniciais para credenciais e endpoints\n",
        "form_recognizer_endpoint = \"https://<seu-form-recognizer>.cognitiveservices.azure.com/\"\n",
        "form_recognizer_key = \"<sua-chave-form-recognizer>\"\n",
        "text_analytics_endpoint = \"https://<seu-text-analytics>.cognitiveservices.azure.com/\"\n",
        "text_analytics_key = \"<sua-chave-text-analytics>\"\n",
        "computer_vision_endpoint = \"https://<seu-computer-vision>.cognitiveservices.azure.com/\"\n",
        "computer_vision_key = \"<sua-chave-computer-vision>\"\n",
        "\n",
        "# Instanciação dos clientes do Azure\n",
        "form_recognizer_client = FormRecognizerClient(form_recognizer_endpoint, AzureKeyCredential(form_recognizer_key))\n",
        "text_analytics_client = TextAnalyticsClient(endpoint=text_analytics_endpoint, credential=AzureKeyCredential(text_analytics_key))\n",
        "computer_vision_client = ComputerVisionClient(computer_vision_endpoint, AzureKeyCredential(computer_vision_key))\n"
      ],
      "metadata": {
        "id": "NRuy-_CZYBdi"
      },
      "execution_count": null,
      "outputs": []
    },
    {
      "cell_type": "markdown",
      "source": [
        "#1. Extração de Dados com o Form Recognizer"
      ],
      "metadata": {
        "id": "DNB7dh72YFRW"
      }
    },
    {
      "cell_type": "code",
      "source": [
        "def extract_data_from_document(file_path):\n",
        "    # Abrir o documento para análise\n",
        "    with open(file_path, \"rb\") as file:\n",
        "        poller = form_recognizer_client.begin_recognize_content(file)\n",
        "        result = poller.result()\n",
        "\n",
        "    # Extração de textos e coordenadas dos campos\n",
        "    for page in result:\n",
        "        print(f\"Página {page.page_number}:\")\n",
        "        for table in page.tables:\n",
        "            for cell in table.cells:\n",
        "                print(f\"Texto: {cell.text} (linha: {cell.row_index}, coluna: {cell.column_index})\")\n",
        "\n",
        "    return result\n"
      ],
      "metadata": {
        "id": "zNErd_QNYh83"
      },
      "execution_count": null,
      "outputs": []
    },
    {
      "cell_type": "markdown",
      "source": [
        "#2. Análise de Texto com Text Analytics"
      ],
      "metadata": {
        "id": "jJEnsNIkYi9-"
      }
    },
    {
      "cell_type": "code",
      "source": [
        "def analyze_text(text):\n",
        "    documents = [text]\n",
        "    response = text_analytics_client.analyze_sentiment(documents=documents)[0]\n",
        "    print(\"Análise de Sentimento:\")\n",
        "    print(f\"Sentimento Geral: {response.sentiment}\")\n",
        "\n",
        "    for idx, sentence in enumerate(response.sentences):\n",
        "        print(f\"Frase {idx + 1}: Sentimento: {sentence.sentiment}, Pontuação: {sentence.confidence_scores}\")\n",
        "\n",
        "    return response\n"
      ],
      "metadata": {
        "id": "aml70PGlYl2W"
      },
      "execution_count": null,
      "outputs": []
    },
    {
      "cell_type": "markdown",
      "source": [
        "#3. Análise de Imagem e Autenticidade com Computer Vision"
      ],
      "metadata": {
        "id": "-tSxOmyIY6T7"
      }
    },
    {
      "cell_type": "code",
      "source": [
        "def analyze_image(file_path):\n",
        "    # Abre a imagem para análise\n",
        "    with open(file_path, \"rb\") as image:\n",
        "        analyze_image_result = computer_vision_client.analyze_image_in_stream(image, visual_features=[\"Description\", \"Tags\"])\n",
        "\n",
        "    print(\"Descrição da imagem:\")\n",
        "    for caption in analyze_image_result.description.captions:\n",
        "        print(f\"Descrição: {caption.text}, Confiança: {caption.confidence:.2f}\")\n",
        "\n",
        "    print(\"Tags da imagem:\")\n",
        "    for tag in analyze_image_result.tags:\n",
        "        print(f\"Tag: {tag.name}, Confiança: {tag.confidence:.2f}\")\n",
        "\n",
        "    return analyze_image_result\n"
      ],
      "metadata": {
        "id": "QFm6XrykY8z8"
      },
      "execution_count": null,
      "outputs": []
    },
    {
      "cell_type": "markdown",
      "source": [
        "#4. Identificação de Fraudes com Modelo de Machine Learning (Simulação)"
      ],
      "metadata": {
        "id": "XbQ8xr2PY_Sk"
      }
    },
    {
      "cell_type": "code",
      "source": [
        "import joblib  # Biblioteca para carregar modelos locais\n",
        "\n",
        "def fraud_detection(model_path, extracted_data):\n",
        "    # Carregar modelo treinado (supondo que temos um modelo local)\n",
        "    model = joblib.load(model_path)\n",
        "\n",
        "    # Processar os dados extraídos (ajuste conforme a necessidade do modelo)\n",
        "    features = [extracted_data]  # Transforme os dados em recursos de entrada\n",
        "\n",
        "    # Predição de fraude\n",
        "    prediction = model.predict(features)\n",
        "    print(\"Possível Fraude Detectada!\" if prediction == 1 else \"Documento Aprovado.\")\n",
        "\n",
        "    return prediction\n"
      ],
      "metadata": {
        "id": "Y3yw1vM2ZDje"
      },
      "execution_count": null,
      "outputs": []
    },
    {
      "cell_type": "markdown",
      "source": [
        "#5. Execução do Pipeline Completo\n"
      ],
      "metadata": {
        "id": "td0JIaOjZGMK"
      }
    },
    {
      "cell_type": "code",
      "source": [
        "def process_document(file_path, model_path):\n",
        "    # Passo 1: Extração de dados do documento\n",
        "    extracted_data = extract_data_from_document(file_path)\n",
        "\n",
        "    # Passo 2: Análise textual (exemplo simples de uma string extraída)\n",
        "    sample_text = \"Conteúdo extraído para análise de texto.\"\n",
        "    analyze_text(sample_text)\n",
        "\n",
        "    # Passo 3: Análise de imagem\n",
        "    analyze_image(file_path)\n",
        "\n",
        "    # Passo 4: Detecção de fraude usando modelo de ML\n",
        "    fraud_detection(model_path, extracted_data)\n",
        "\n",
        "# Exemplo de uso\n",
        "file_path = \"caminho/para/o/documento.pdf\"\n",
        "model_path = \"caminho/para/modelo_fraude.joblib\"\n",
        "process_document(file_path, model_path)\n"
      ],
      "metadata": {
        "id": "F4CW_oWyZTd1"
      },
      "execution_count": null,
      "outputs": []
    },
    {
      "cell_type": "markdown",
      "source": [
        "#Observações Finais\n",
        "*Modelos de Machine Learning: A detecção de fraudes é uma parte complexa que* *normalmente envolve dados históricos e treinamento extensivo no Azure ML* *Studio. Este script assume que um modelo treinado já está disponível em* *formato .joblib.*\n",
        "*Tratamento de Exceções e Logs: Devemos incluir tratamento de* *exceções e logging, especialmente ao lidar com serviços externos.*\n",
        "*Privacidade e Segurança: Deve-se conexões seguras e controlar o acesso aos documentos."
      ],
      "metadata": {
        "id": "Kdc_ZgueZdxL"
      }
    }
  ]
}